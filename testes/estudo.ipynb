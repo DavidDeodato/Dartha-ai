{
 "cells": [
  {
   "cell_type": "markdown",
   "metadata": {},
   "source": [
    "**Estudo De Endpoints**"
   ]
  },
  {
   "cell_type": "markdown",
   "metadata": {},
   "source": [
    "*ENDPOINTS:\n",
    "\n",
    " - uma especie de 'rota' para acessar um serviço terceiro (api) -- um ponto de entrada\n",
    " \n",
    "Dentro disso, temos os 'métodos' que vão definir o que a rota 'faz':\n",
    "\n",
    "- POST - enviar dados\n",
    "\n",
    "exemplo de uma rota: POST /sendmessage -- aqui, o 'POST' defini que dados vão ser enviados e o '/sendmessage' defini para aonde esses dados vão ser enviados\n",
    "\n",
    "\n",
    "Nesse sentido, o sistema que eu 'quero pegar ou enviar algo', recebe um 'request' ou seja, uma requisição de algo e me devolve um 'response', ou seja, basicamente, o sistema para o qual eu tô tentando me comunicar/integrar, recebe uma requisição minha e o que ele 'responder', vai ser minha response\n",
    "\n",
    "\n",
    "\n",
    "\n",
    "Nesse sentido, dentro de um endpoint, temos 3 'pilares'. Sendo o primeiro o método HTTP usado (o que vai ser feito naquele lugar da sua aplicação - postar, pedir algo etc etc), depois temos a rota em si, que ai vai ser o URL, que defini exatamente aonde, dentro da sua aplicação, a api vai acessar, como, por exemplo, '/sendmessage', e o terceiro é o 'body', que não é necessariamente obrigatório, mas, em si, é o conteúdo que eu vou 'enviar' junto.\n",
    "\n",
    "\n",
    "exemplo abaixo de um endpoint real:\n",
    "\n"
   ]
  },
  {
   "cell_type": "code",
   "execution_count": null,
   "metadata": {},
   "outputs": [],
   "source": [
    "POST /sendmessage\n",
    "Host: 127.0.0.1:8000\n",
    "Content-Type: application/json\n",
    "\n",
    "{\n",
    "  \"chat_id\": \"123abc\",\n",
    "  \"message\": \"Explique a fórmula de Bhaskara\"\n",
    "}"
   ]
  },
  {
   "cell_type": "markdown",
   "metadata": {},
   "source": [
    "Exemplo de um endpoint criado com fastapi"
   ]
  },
  {
   "cell_type": "code",
   "execution_count": null,
   "metadata": {},
   "outputs": [],
   "source": [
    "from fastapi import FastAPI\n",
    "from pydantic import BaseModel\n",
    "\n",
    "app = FastAPI()\n",
    "\n",
    "class SendMessageRequest(BaseModel):\n",
    "    chat_id: str\n",
    "    message: str\n",
    "\n",
    "@app.post(\"/sendmessage\")  # Criamos um endpoint POST chamado \"/sendmessage\"\n",
    "def send_message(request: SendMessageRequest):\n",
    "    return {\"chat_id\": request.chat_id, \"message\": f\"Processando: {request.message}\"}\n"
   ]
  },
  {
   "cell_type": "markdown",
   "metadata": {},
   "source": [
    "Métodos HTTP"
   ]
  },
  {
   "cell_type": "markdown",
   "metadata": {},
   "source": [
    "Basicamente, eles funcionam 'em conjunto' com a rota, dentro de um endpoint. Porém, os métodos http em si dizem o que eu vou 'fazer' quando eu interajo com uma aplicação terceira (api)\n",
    "\n",
    "\n",
    "toda requisição feita para algum endpoint usa algum método HTTP para indicar o que vai ser feito (pegar, enviar, atualizar ou deletar)\n",
    "\n",
    "Nisso, os 4 principais são:\n",
    "\n",
    "\n",
    "| Método | O que faz? | Exemplo de uso |\n",
    "|--------|-------------|----------------|\n",
    "| GET    | Busca informações | Pegar lista de usuários |\n",
    "| POST   | Envia dados para criar algo novo | Criar um novo usuário |\n",
    "| PUT    | Atualiza informações existentes | Editar um perfil de usuário |\n",
    "| DELETE | Remove um dado | Apagar um usuário |\n",
    "\n",
    "\n",
    "\n",
    "\n",
    "\n",
    "\n"
   ]
  },
  {
   "cell_type": "code",
   "execution_count": null,
   "metadata": {},
   "outputs": [
    {
     "name": "stdout",
     "output_type": "stream",
     "text": [
      "{'jogos_favoritos': {'primeiro': 'fortnite', 'segundo': 'minecraft', 'terceiro': 'cs go'}, 'filme_favorito': 'vingadores'}\n"
     ]
    }
   ],
   "source": [
    "# fazendo um dicionario em pythonic\n",
    "\n",
    "dicionario_coisas_legais = {\n",
    "    'jogos_favoritos': {\n",
    "        'primeiro': 'fortnite',\n",
    "        'segundo': 'minecraft',\n",
    "        'terceiro': 'cs go',\n",
    "                      },\n",
    "    'filme_favorito': 'vingadores',\n",
    "    'musica_favorita': 'otherside'\n",
    "}\n",
    "\n",
    "\n",
    "print(dicionario)"
   ]
  },
  {
   "cell_type": "code",
   "execution_count": 20,l,
   "metadata": {},
   "outputs": [
    {
     "name": "stdout",
     "output_type": "stream",
     "text": [
      "cs go\n"
     ]
    }
   ],
   "source": [
    "# acessando o filme favorito\n",
    "\n",
    "print(dicionario_coisas_legais['jogos_favoritos']['terceiro'])"
   ]
  },
  {
   "cell_type": "code",
   "execution_count": 24,l,
   "metadata": {},
   "outputs": [],
   "source": [
    "#criando um json simples\n",
    "\n",
    "json_simples = {\n",
    "    \"nome\": \"João\",\n",
    "    \"idade\": 25,\n",
    "    \"cidade\": \"São Paulo\",\n",
    "}"
   ]
  },
  {
   "cell_type": "code",
   "execution_count": 29,
   "metadata": {},
   "outputs": [
    {
     "name": "stdout",
     "output_type": "stream",
     "text": [
      "São Paulo\n"
     ]
    }
   ],
   "source": [
    "print(json_simples['cidade'])"
   ]
  },
  {
   "cell_type": "markdown",
   "metadata": {},
   "source": [
    "fastapi"
   ]
  },
  {
   "cell_type": "markdown",
   "metadata": {},
   "source": [
    "o fastapi faz o trabalho 'pesado' por trás dos panos. Como é o fluxo:\n",
    "\n",
    "1 - o cliente (navegador, postman - para teste - , ou terceiro) faz uma requisição HTTP em algum endpoint, seja post, delete, put ou get\n",
    "\n",
    "2 - o fastapi recebe a requisição http, identifica o endpoint correto e faz o processamento, dependendo de qual for a lógica atrelada a aquele endpoint\n",
    "\n",
    "3- o fastapi executa a lógica\n",
    "\n",
    "4 - retorna um response em json (normalmente)"
   ]
  },
  {
   "cell_type": "markdown",
   "metadata": {},
   "source": [
    "**Testando API COM POSTMAN**"
   ]
  },
  {
   "cell_type": "code",
   "execution_count": null,
   "metadata": {},
   "outputs": [],
   "source": [
    "# criando api simples de teste com fastapi\n",
    "\n"
   ]
  },
  {
   "cell_type": "markdown",
   "metadata": {},
   "source": [
    "**ESTUDANDO BANCO DE DADOS POSTGRESQL**"
   ]
  },
  {
   "cell_type": "markdown",
   "metadata": {},
   "source": [
    "- PostegreSQL é um banco de dados relacional"
   ]
  },
  {
   "cell_type": "markdown",
   "metadata": {},
   "source": [
    "O que é um banco de dados relacional\n",
    "\n",
    "- Banco de dados relacionais usam tabelas na estrutura deles (cada tabela tem coluna e linha)\n",
    "- É um conjunto de tabelas relacionadas\n",
    "- Divisões internas do banco de dados (como pastas para agrupar tabelas)\n",
    "\n",
    "\n",
    "**Existem comandos esesnciais para navegação de um db relacional(SQL)**\n",
    "\n",
    "\\l = mostra todos os bancos de dados no PostgreSQL\n",
    "\n",
    "\\c nome_do_banco = entrar em um banco especifico\n",
    "\n",
    "\\dt = ver todas as tabelas do banco de dados\n",
    "\n",
    "\\d nome_da_tabela = ver a estrutura de uma tabela especifica (mostra as colunas, tipos e chaves)\n",
    "\n",
    "SELECT * FROM nome_da_tabela LIMIT 10; (ver as primeiras 10 linhas do banco de dados)\n",
    "\n",
    "SELECT conrelid::regclass AS tabela, conname AS constraint_nome, contype AS tipo\n",
    "FROM pg_constraint; = mostra as chaves primárias, strangeiras e constraints \n",
    "\n"
   ]
  },
  {
   "cell_type": "markdown",
   "metadata": {},
   "source": [
    "**como os dados são manipualados?**"
   ]
  },
  {
   "cell_type": "markdown",
   "metadata": {},
   "source": [
    "O CRUD define as operações básicas para manipular o db:\n",
    "\n",
    "Create (INSERT INTO) = adiciona dados, parecido com a ideia do post em requisições HTTP\n",
    "\n",
    "Read (SELECT) = Consulta dados, parecido com a ideia do get em requisições HTTP\n",
    "\n",
    "Update (UPDATE) = Modifica dados existentes, parecido com a ideia do put, em requisições HTTP\n",
    "\n",
    "Delete (DELETE) = Remove dados, mesma ideia do delete, em requisições HTTP\n",
    "\n",
    "\n",
    "\n",
    "EXEMPLOS:\n",
    "\n",
    "➕ Inserindo dados\n",
    "\n",
    "```\n",
    "INSERT INTO usuarios (nome, email) VALUES ('David', 'david@email.com');\n",
    "```\n",
    "\n",
    "🔍 Buscando dados\n",
    "\n",
    "```\n",
    "SELECT * FROM usuarios WHERE nome = 'David';\n",
    "```\n",
    "\n",
    "✏️ Atualizando um dado\n",
    "\n",
    "```\n",
    "UPDATE usuarios SET email = 'novo@email.com' WHERE nome = 'David';\n",
    "```\n",
    "\n",
    "❌ Removendo um dado\n",
    "\n",
    "```\n",
    "DELETE FROM usuarios WHERE nome = 'David';\n",
    "```"
   ]
  },
  {
   "cell_type": "markdown",
   "metadata": {},
   "source": [
    "O PostgreSQL segue uma estrutura hierárquica:\n",
    "\n",
    "Banco de dados - container principal que armazena as informações\n",
    "\n",
    "Schemas - Subdivisões dentro do banco para organizar as tabelas e objetos\n",
    "\n",
    "Tabelas - aonde os dados são realmente armazenados\n",
    "\n",
    "Colunas - Cada campo da tabela\n",
    "\n",
    "Registros(linhas) - entradas\n",
    "\n",
    "```\n",
    "📦 dartha (Banco de Dados)\n",
    " ├── 📂 public (Schema)\n",
    " │   ├── 📄 usuarios (Tabela)\n",
    " │   │   ├── id (INT, PK)\n",
    " │   │   ├── nome (VARCHAR)\n",
    " │   │   ├── email (VARCHAR)\n",
    " │   │   ├── criado_em (TIMESTAMP)\n",
    " │   │\n",
    " │   ├── 📄 chats (Tabela)\n",
    " │   │   ├── id (INT, PK)\n",
    " │   │   ├── chat_id (VARCHAR)\n",
    " │   │   ├── subject (VARCHAR)\n",
    " │   │   ├── criado_em (TIMESTAMP)\n",
    "```"
   ]
  },
  {
   "cell_type": "markdown",
   "metadata": {},
   "source": [
    "**comandos essenciais para manipular o banco (diferente do curd, que é para manipular os dados)**"
   ]
  },
  {
   "cell_type": "markdown",
   "metadata": {},
   "source": [
    "```\n",
    "CREATE TABLE usuarios (\n",
    "    id SERIAL PRIMARY KEY,\n",
    "    nome VARCHAR (255) NOT NULL,\n",
    "    email VARCHAR (255) NOT NULL,\n",
    "    criado_em TIMESTAMP DEFAULT CURRENT_TIMESTAP\n",
    ")\n",
    "```"
   ]
  },
  {
   "cell_type": "markdown",
   "metadata": {},
   "source": [
    "Para relacionar tabelas (por colunas)"
   ]
  },
  {
   "cell_type": "markdown",
   "metadata": {},
   "source": [
    "```\n",
    "CREATE TABLE chats (\n",
    "    id SERIAL PRIMARY KEY,\n",
    "    chat_id VARCHAR(255) NOT NULL,\n",
    "    usuario_id INT REFERENCES usuarios(id) ON DELETE CASCADE,\n",
    "    subject VARCHAR(255),\n",
    "    criado_em TIMESTAMP DEFAULT CURRENT_TIMESTAMP\n",
    ");\n",
    "```"
   ]
  },
  {
   "cell_type": "markdown",
   "metadata": {},
   "source": [
    "Psycopg"
   ]
  },
  {
   "cell_type": "markdown",
   "metadata": {},
   "source": [
    "O psycopg é um 'driver' de banco de dados postgreSQL para python. Ele permite que você se comunique com o banco de dados, envie, receba, visualize dados de forma eficiente. Nesse sentido, ele permite que conectemos o fastapi ao psycopg, para receber e enviar dados.\n",
    "\n",
    "Para instalar a versão não compilada do psycopg, use o comando:\n",
    "\n",
    "```\n",
    "pip install psycopg[binary]\n",
    "```\n"
   ]
  }
 ],
 "metadata": {
  "kernelspec": {
   "display_name": "Python 3",
   "language": "python",
   "name": "python3"
  },
  "language_info": {
   "codemirror_mode": {
    "name": "ipython",
    "version": 3
   },
   "file_extension": ".py",
   "mimetype": "text/x-python",
   "name": "python",
   "nbconvert_exporter": "python",
   "pygments_lexer": "ipython3",
   "version": "3.12.0"
  }
 },
 "nbformat": 4,
 "nbformat_minor": 2
}
